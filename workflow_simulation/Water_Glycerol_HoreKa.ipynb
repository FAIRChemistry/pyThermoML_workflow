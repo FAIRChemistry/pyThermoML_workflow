{
 "cells": [
  {
   "cell_type": "code",
   "execution_count": null,
   "id": "cdc28ae9",
   "metadata": {},
   "outputs": [],
   "source": [
    "import sys\n",
    "base_path='' \n",
    "sys.path.append(base_path)\n",
    "sys.path.append('/home/bsc')\n",
    "import mixturemm\n",
    "\n",
    "workdir = 'glyc_blieck_egorov'"
   ]
  },
  {
   "cell_type": "code",
   "execution_count": null,
   "id": "294ddd8d",
   "metadata": {},
   "outputs": [],
   "source": [
    "project = mixturemm.Project(workdir,\n",
    "                            simulation_platform='CUDA',\n",
    "                            simulation_properties={'DeviceIndex': '0', 'Precision': 'double'},\n",
    "                            total_number_molecules=[700, 3000, 6000],\n",
    "                            init_box_side_length=[40, 70, 90],\n",
    "                            chi_water_s=[0.0, 0.1, 0.2, 0.3, 0.4, 0.5, 0.6, 0.7, 0.8, 0.9, 1.0],\n",
    "                            temperature_s=[288.15, 293.15, 298.15, 303.15],\n",
    "                            npt_equilibration_pressure_s=[1],\n",
    "                            npt_equilibration_pressure_coupling_frequency=500,\n",
    "                            npt_equilibration_temperature_coupling_frequency=0.1,\n",
    "                            npt_equilibration_timestep_fs=2,\n",
    "                            npt_equilibration_duration_ns=12,\n",
    "                            reporting_frequency_state_npt_equilibration = 500,\n",
    "                            nvt_equilibration_temperature_coupling_frequency=0.1,\n",
    "                            nvt_equilibration_timestep_fs=2,\n",
    "                            nvt_equilibration_duration_ns=20,\n",
    "                            reporting_frequency_state_nvt_equilibration=4000,\n",
    "                            nve_production_timestep_fs=1,\n",
    "                            nve_production_duration_ns=50,\n",
    "                            reporting_frequency_coordinates_unwrapped=4000,\n",
    "                            reporting_frequency_coordinates_wrapped=8000,\n",
    "                            reporting_frequency_state_nve_production=4000,\n",
    "                            replica_count=20,\n",
    "                            pme_error_tolerance=0.000001,\n",
    "                            constraint_tolerance=0.0000001,\n",
    "                            cutoff_distance_nm=1.1,\n",
    "                            cutoff_switch_distance_nm=1.0)"
   ]
  },
  {
   "cell_type": "code",
   "execution_count": null,
   "id": "525f5813",
   "metadata": {},
   "outputs": [],
   "source": [
    "Water = mixturemm.Molecule(workdir, name='Water', number_of_atoms=4, molar_ratio=1, path_to_pdb=f'{base_path}input_files/molecules/Water.pdb', abbreviation='HOH', smiles='O', inchi='1S/H2O/h1H2', molar_mass=18.015, use_as_water=True)\n",
    "Glycerol = mixturemm.Molecule(workdir, 'Glycerol', 14, 1, f'{base_path}input_files/molecules/Glycerol.pdb', 'Gl', 'C(C(CO)O)O', '1S/C3H8O3/c4-1-3(6)2-5/h3-6H,1-2H2', 92.09382)"
   ]
  },
  {
   "cell_type": "code",
   "execution_count": null,
   "id": "e43817e5",
   "metadata": {},
   "outputs": [],
   "source": [
    "\n",
    "waterFF = mixturemm.Forcefield(workdir, f'{base_path}input_files/forcefield/tip4p-fb.xml','tip4p-fb', built_in=False)\n",
    "glycFF = mixturemm.Forcefield(workdir, f'{base_path}input_files/forcefield/glyc_blieck_egorov.xml','blieck_egorov', built_in=False)\n",
    "project.add_molecule(Water)\n",
    "project.add_molecule(Glycerol)\n",
    "project.add_forcefield(waterFF)\n",
    "project.add_forcefield(glycFF)"
   ]
  },
  {
   "cell_type": "code",
   "execution_count": null,
   "id": "f0635970",
   "metadata": {},
   "outputs": [],
   "source": [
    "\n",
    "\n",
    "\n",
    "project.create_simulationboxes()\n",
    "project.create_systems()\n",
    "project.create_replicas(start=1)\n",
    "\n"
   ]
  },
  {
   "cell_type": "code",
   "execution_count": null,
   "id": "d8e214c5",
   "metadata": {},
   "outputs": [],
   "source": [
    "project.create_hpc_submission_adjust_to_correct_density(\n",
    "hpc_workspace=\"/hkfs/work/workspace/scratch/st_st167271-des\",\n",
    "hpc_folder=\"/hkfs/work/workspace/scratch/st_st167271-des/glyc_blieck_egorov\",\n",
    "hpc_scripts_folder=\"/hkfs/work/workspace/scratch/st_st167271-des/\",\n",
    "environment_name=\"des\",\n",
    "scheduler='SBATCH',\n",
    "partition = 'accelerated',\n",
    "number_of_threads=152,\n",
    "number_of_gpus=4,\n",
    "chunk_size=4,\n",
    "max_runtime_hh_mm_ss='24:00:00',\n",
    "which_hpc=\"HoreKa\",\n",
    "chain_submission_number=1,\n",
    "dependency_type='afternotok',\n",
    "checkpoint_frequency=10000)\n"
   ]
  },
  {
   "cell_type": "code",
   "execution_count": null,
   "id": "e79e4d9c",
   "metadata": {},
   "outputs": [],
   "source": [
    "project.create_hpc_submission_simulate(environment_name='des',\n",
    "                            scheduler='SBATCH',\n",
    "                            max_runtime_hh_mm_ss='24:00:00',\n",
    "                            number_of_threads=152,\n",
    "                            partition='accelerated',\n",
    "                            chain_submission_number=1,\n",
    "                            number_of_gpus=4,\n",
    "                            chunk_size=4,                              \n",
    "                            dependency_type='afternotok',\n",
    "                            checkpoint_frequency=500000,\n",
    "                            hpc_workspace=\"/hkfs/work/workspace/scratch/st_st167271-des\",\n",
    "                            hpc_folder=\"/hkfs/work/workspace/scratch/st_st167271-des/glyc_blieck_egorov\",\n",
    "                            hpc_scripts_folder=\"/hkfs/work/workspace/scratch/st_st167271-des\",\n",
    "                            which_hpc='HOREKA',\n",
    "                            max_number_of_jobs=50)\n"
   ]
  },
  {
   "cell_type": "code",
   "execution_count": null,
   "id": "6bf7b43b",
   "metadata": {},
   "outputs": [],
   "source": [
    "project.hpc_extend_replica_folders(\"/hkfs/work/workspace/scratch/st_st167271-des/glyc_blieck_egorov\")\n"
   ]
  },
  {
   "cell_type": "code",
   "execution_count": null,
   "id": "da21a998",
   "metadata": {},
   "outputs": [],
   "source": [
    "project.remove_done_jobs_from_replicas(f'{workdir}/job_checks.txt')"
   ]
  },
  {
   "cell_type": "code",
   "execution_count": null,
   "id": "5e37c581",
   "metadata": {},
   "outputs": [],
   "source": [
    "project.hpc_job_checker(hpc_folder='/hkfs/work/workspace/scratch/st_st167271-des/glyc_blieck_egorov', \n",
    "    hpc_scripts_folder='/hkfs/work/workspace/scratch/st_st167271-des', \n",
    "    hpc_workspace='/hkfs/work/workspace/scratch/st_st167271-des', \n",
    "    environment_name='des', \n",
    "    output='verbose',\n",
    "    energy_shift_tolerance_percent=1)"
   ]
  },
  {
   "cell_type": "code",
   "execution_count": null,
   "id": "30d862e0",
   "metadata": {},
   "outputs": [],
   "source": [
    "project.create_hpc_submission_analyze_density(hpc_workspace='/hkfs/work/workspace/scratch/st_st167271-des',\n",
    "    hpc_folder='/hkfs/work/workspace/scratch/st_st167271-des/glyc_blieck_egorov',\n",
    "    hpc_scripts_folder='/hkfs/work/workspace/scratch/st_st167271-des',\n",
    "    environment_name='analysis',\n",
    "    scheduler='SBATCH',\n",
    "    partition='cpuonly',\n",
    "    number_of_threads=152,\n",
    "    max_runtime_hh_mm_ss='00:10:00',\n",
    "    which_hpc='HoreKa'\n",
    "    )"
   ]
  },
  {
   "cell_type": "code",
   "execution_count": null,
   "id": "7626b507",
   "metadata": {},
   "outputs": [],
   "source": [
    "project.create_hpc_submission_analyze_msd(hpc_workspace='/hkfs/work/workspace/scratch/st_st167271-des',\n",
    "    hpc_folder='/hkfs/work/workspace/scratch/st_st167271-des/glyc_blieck_egorov',\n",
    "    hpc_scripts_folder='/hkfs/work/workspace/scratch/st_st167271-des',\n",
    "    environment_name='analysis',\n",
    "    scheduler='SBATCH',\n",
    "    partition='cpuonly',\n",
    "    number_of_threads=152,\n",
    "    parallel_running=4,\n",
    "    submission_split=50,\n",
    "    max_runtime_hh_mm_ss='24:00:00',\n",
    "    which_hpc='HoreKa',\n",
    "    fit_starting_percentage=20,\n",
    "    fit_ending_percentage=80,\n",
    "    just_conclude=False\n",
    "    )"
   ]
  }
 ],
 "metadata": {
  "kernelspec": {
   "display_name": "Python 3 (ipykernel)",
   "language": "python",
   "name": "python3"
  },
  "language_info": {
   "codemirror_mode": {
    "name": "ipython",
    "version": 3
   },
   "file_extension": ".py",
   "mimetype": "text/x-python",
   "name": "python",
   "nbconvert_exporter": "python",
   "pygments_lexer": "ipython3",
   "version": "3.9.5"
  }
 },
 "nbformat": 4,
 "nbformat_minor": 5
}
