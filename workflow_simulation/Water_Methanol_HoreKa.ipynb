{
 "cells": [
  {
   "cell_type": "code",
   "execution_count": 1,
   "id": "56a6baa3",
   "metadata": {},
   "outputs": [
    {
     "name": "stderr",
     "output_type": "stream",
     "text": [
      "C:\\Users\\benni\\mixturemm\\__init__.py:12: UserWarning: Analyzer functions are not available due to missing packages\n",
      "  warnings.warn('Analyzer functions are not available due to missing packages')\n"
     ]
    }
   ],
   "source": [
    "import sys\n",
    "import os\n",
    "base_path= f'{os.getcwd()}/'\n",
    "sys.path.append(base_path)\n",
    "import mixturemm"
   ]
  },
  {
   "cell_type": "code",
   "execution_count": 2,
   "id": "431a807e",
   "metadata": {},
   "outputs": [],
   "source": [
    "workdir = f'{base_path}Methanol_Water_HoreKa_GPU'\n",
    "project = mixturemm.Project(workdir,\n",
    "                            simulation_platform='CUDA',\n",
    "                            simulation_properties={'DeviceIndex': '0', 'Precision': 'double'},\n",
    "                            total_number_molecules=[2000,6000,15000],\n",
    "                            init_box_side_length=[65,75,102],\n",
    "                            chi_water_s=[0,0.1,0.2,0.3,0.4,0.5,0.6,0.7,0.8,0.9,1],\n",
    "                            temperature_s=[298.15,308.15,318.15],\n",
    "                            npt_equilibration_pressure_s=[1],\n",
    "                            npt_equilibration_pressure_coupling_frequency=500,\n",
    "                            npt_equilibration_temperature_coupling_frequency=0.1,\n",
    "                            npt_equilibration_timestep_fs=2,\n",
    "                            npt_equilibration_duration_ns=12,\n",
    "                            reporting_frequency_state_npt_equilibration = 500,\n",
    "                            nvt_equilibration_temperature_coupling_frequency=0.1,\n",
    "                            nvt_equilibration_timestep_fs=2,\n",
    "                            nvt_equilibration_duration_ns=20,\n",
    "                            reporting_frequency_state_nvt_equilibration=4000,\n",
    "                            nve_production_timestep_fs=1,\n",
    "                            nve_production_duration_ns=50,\n",
    "                            reporting_frequency_coordinates_unwrapped=4000,\n",
    "                            reporting_frequency_coordinates_wrapped=8000,\n",
    "                            reporting_frequency_state_nve_production=8000,\n",
    "                            replica_count=40,\n",
    "                            pme_error_tolerance=0.000001,\n",
    "                            constraint_tolerance=0.0000001,\n",
    "                            cutoff_distance_nm=1.4,\n",
    "                            cutoff_switch_distance_nm=1.2)\n",
    "Water = mixturemm.Molecule(workdir, 'Water', 4, 1, f'{base_path}tip4p-fb_ff/tip4p.pdb', 'HOH', 'O', '1S/H2O/h1H2', 18.015, use_as_water=True)\n",
    "Methanol = mixturemm.Molecule(workdir, 'Methanol', 3, 1, f'{base_path}trappe_methanol/methanol.pdb', 'Me', 'CO', '1S/CH4O/c1-2/h2H,1H3', 32.04)\n",
    "project.add_molecule(Water)\n",
    "project.add_molecule(Methanol)\n",
    "Water_FF = mixturemm.Forcefield(workdir, f'{base_path}tip4p-fb_ff/tip4p-fb.xml','tip4p-fb', built_in=False)\n",
    "Methanol_FF = mixturemm.Forcefield(workdir, f'{base_path}trappe_methanol/trappe_methanol.xml','trappe_methanol', built_in=False, elements={'3':15.0347})\n",
    "project.add_forcefield(Water_FF)\n",
    "project.add_forcefield(Methanol_FF)\n",
    "project.create_simulationboxes()\n",
    "project.create_systems()\n",
    "project.create_replicas(start=1)"
   ]
  },
  {
   "cell_type": "code",
   "execution_count": 3,
   "id": "28dc3623",
   "metadata": {},
   "outputs": [],
   "source": [
    "project.overcharge_replicas(total_number_molecules=[2000], overcharge_amount=60)"
   ]
  },
  {
   "cell_type": "code",
   "execution_count": null,
   "id": "11f75405",
   "metadata": {},
   "outputs": [],
   "source": [
    "project.create_hpc_submission_adjust_to_correct_density(\n",
    "                            hpc_workspace=\"/hkfs/work/workspace/scratch/st_st142056-shift\",\n",
    "                            hpc_folder=\"/hkfs/work/workspace/scratch/st_st142056-shift/Methanol_Water_HoreKa_GPU\",\n",
    "                            hpc_scripts_folder=\"/hkfs/work/workspace/scratch/st_st142056-shift\",\n",
    "                            environment_name='openmmfin',\n",
    "                            scheduler='SBATCH',\n",
    "                            partition='accelerated',\n",
    "                            number_of_threads=152,\n",
    "                            number_of_gpus=4,\n",
    "                            chunk_size=4,\n",
    "                            max_runtime_hh_mm_ss='24:00:00',\n",
    "                            which_hpc='HoreKa',\n",
    "                            chain_submission_number=1,              \n",
    "                            dependency_type='afternotok',\n",
    "                            checkpoint_frequency=500000)"
   ]
  },
  {
   "cell_type": "code",
   "execution_count": 4,
   "id": "8b2becae",
   "metadata": {},
   "outputs": [],
   "source": [
    "project.remove_done_jobs_from_replicas(path_to_job_checks=f'{workdir}/job_checks.txt')"
   ]
  },
  {
   "cell_type": "code",
   "execution_count": 5,
   "id": "baebb30a",
   "metadata": {},
   "outputs": [],
   "source": [
    "project.create_hpc_submission_simulate(\n",
    "                            hpc_workspace=\"/hkfs/work/workspace/scratch/st_st142056-shift\",\n",
    "                            hpc_folder=\"/hkfs/work/workspace/scratch/st_st142056-shift/Methanol_Water_HoreKa_GPU\",\n",
    "                            hpc_scripts_folder=\"/hkfs/work/workspace/scratch/st_st142056-shift\",\n",
    "                            environment_name='openmmfin',\n",
    "                            scheduler='SBATCH',\n",
    "                            partition='accelerated',\n",
    "                            number_of_threads=152,\n",
    "                            number_of_gpus=4,\n",
    "                            chunk_size=4,\n",
    "                            max_number_of_jobs=50,\n",
    "                            max_runtime_hh_mm_ss='24:00:00',\n",
    "                            which_hpc='HoreKa',\n",
    "                            chain_submission_number=1,              \n",
    "                            dependency_type='afternotok',\n",
    "                            checkpoint_frequency=500000)"
   ]
  },
  {
   "cell_type": "code",
   "execution_count": 4,
   "id": "af713e0c",
   "metadata": {},
   "outputs": [],
   "source": [
    "project.hpc_extend_replica_folders(hpc_folder=\"/hkfs/work/workspace/scratch/st_st142056-shift/Methanol_Water_HoreKa_GPU\")"
   ]
  },
  {
   "cell_type": "code",
   "execution_count": 5,
   "id": "9e4923ef",
   "metadata": {},
   "outputs": [],
   "source": [
    "project.hpc_job_checker(hpc_folder=\"/hkfs/work/workspace/scratch/st_st142056-shift/Methanol_Water_HoreKa_GPU\", hpc_scripts_folder=\"/hkfs/work/workspace/scratch/st_st142056-masterarbeit\", hpc_workspace=\"/hkfs/work/workspace/scratch/st_st142056-masterarbeit\", environment_name='openmmfin')"
   ]
  },
  {
   "cell_type": "code",
   "execution_count": 4,
   "id": "4942631e",
   "metadata": {},
   "outputs": [],
   "source": [
    "project.transfer_project(hpc_folder_old=\"/hkfs/work/workspace/scratch/st_st142056-shift/Methanol_Water_HoreKa_GPU\", hpc_folder_new=\"/hkfs/work/workspace/scratch/st_st167271-benni/Methanol_Water_HoreKa_GPU\")"
   ]
  },
  {
   "cell_type": "code",
   "execution_count": 4,
   "id": "e7eb4f85",
   "metadata": {},
   "outputs": [],
   "source": [
    "project.create_hpc_submission_analyze_density(\n",
    "    hpc_workspace=\"/hkfs/work/workspace/scratch/st_st142056-shift\",\n",
    "    hpc_folder=\"/hkfs/work/workspace/scratch/st_st142056-shift/Methanol_Water_HoreKa_GPU\",\n",
    "    hpc_scripts_folder=\"/hkfs/work/workspace/scratch/st_st142056-shift\",\n",
    "    environment_name='openmmfin',\n",
    "    scheduler='SBATCH',\n",
    "    partition='cpuonly',\n",
    "    number_of_threads=152,\n",
    "    max_runtime_hh_mm_ss='00:10:00',\n",
    "    which_hpc='HoreKa')"
   ]
  },
  {
   "cell_type": "code",
   "execution_count": 4,
   "id": "ea87e500",
   "metadata": {},
   "outputs": [],
   "source": [
    "project.create_hpc_submission_analyze_msd(\n",
    "    hpc_workspace=\"/hkfs/work/workspace/scratch/st_st142056-shift\",\n",
    "    hpc_folder=\"/hkfs/work/workspace/scratch/st_st142056-shift/Methanol_Water_HoreKa_GPU\",\n",
    "    hpc_scripts_folder=\"/hkfs/work/workspace/scratch/st_st142056-shift\",\n",
    "    environment_name='openmmfin',\n",
    "    scheduler='SBATCH',\n",
    "    partition='cpuonly',\n",
    "    number_of_threads=152,\n",
    "    parallel_running=4,\n",
    "    submission_split=50,\n",
    "    max_runtime_hh_mm_ss='24:00:00',\n",
    "    which_hpc='HoreKa',\n",
    "    fit_starting_percentage=20,\n",
    "    fit_ending_percentage=80,\n",
    "    just_conclude=False)"
   ]
  },
  {
   "cell_type": "code",
   "execution_count": 4,
   "id": "17853cba",
   "metadata": {},
   "outputs": [],
   "source": [
    "project.create_hpc_submission_analyze_hbonds(\n",
    "    hpc_workspace=\"/hkfs/work/workspace/scratch/st_st142056-shift\",\n",
    "    hpc_folder=\"/hkfs/work/workspace/scratch/st_st142056-shift/Methanol_Water_HoreKa_GPU\",\n",
    "    hpc_scripts_folder=\"/hkfs/work/workspace/scratch/st_st142056-shift\",\n",
    "    environment_name='openmmfin',\n",
    "    scheduler='SBATCH',\n",
    "    partition='cpuonly',\n",
    "    number_of_threads=152,\n",
    "    parallel_running=4,\n",
    "    submission_split=50,\n",
    "    max_runtime_hh_mm_ss='24:00:00',\n",
    "    which_hpc='HoreKa',\n",
    "    donors='(resname HOH and name O) or (resname Me and name O)',\n",
    "    hydrogens='(resname HOH and name H1) or (resname HOH and name H2) or (resname Me and name H2)',\n",
    "    acceptors='(resname HOH and name O) or (resname Me and name O)',\n",
    "    just_conclude=False)"
   ]
  },
  {
   "cell_type": "code",
   "execution_count": null,
   "id": "163d53cb",
   "metadata": {},
   "outputs": [],
   "source": []
  }
 ],
 "metadata": {
  "kernelspec": {
   "display_name": "Python 3 (ipykernel)",
   "language": "python",
   "name": "python3"
  },
  "language_info": {
   "codemirror_mode": {
    "name": "ipython",
    "version": 3
   },
   "file_extension": ".py",
   "mimetype": "text/x-python",
   "name": "python",
   "nbconvert_exporter": "python",
   "pygments_lexer": "ipython3",
   "version": "3.9.5"
  }
 },
 "nbformat": 4,
 "nbformat_minor": 5
}
